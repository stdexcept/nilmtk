{
 "metadata": {
  "name": ""
 },
 "nbformat": 3,
 "nbformat_minor": 0,
 "worksheets": [
  {
   "cells": [
    {
     "cell_type": "code",
     "collapsed": false,
     "input": [
      "from __future__ import print_function, division\n",
      "import numpy as np\n",
      "\n",
      "# Create a big numpy array\n",
      "N = 1E7\n",
      "arr = np.random.randn(N)\n",
      "print(arr[:5])\n",
      "print('dtype=', arr.dtype)\n",
      "print('MBytes=', N*8 / 1E6)"
     ],
     "language": "python",
     "metadata": {},
     "outputs": [
      {
       "output_type": "stream",
       "stream": "stdout",
       "text": [
        "[ 0.1603029   0.36586917 -0.12065417  1.4464936  -2.65329948]\n",
        "dtype= float64\n",
        "MBytes= 80.0\n"
       ]
      }
     ],
     "prompt_number": 160
    },
    {
     "cell_type": "code",
     "collapsed": false,
     "input": [
      "def clip(data):\n",
      "    return data.clip(0.4,0.5)"
     ],
     "language": "python",
     "metadata": {},
     "outputs": [],
     "prompt_number": 161
    },
    {
     "cell_type": "code",
     "collapsed": false,
     "input": [
      "def chunk_by_chunk_clip(data):\n",
      "    # n_chunks = 80 * 16 # 64KB fits into L1 = 16.2 ms per loop\n",
      "    # n_chunks = 80 * 4 # 256KB fits into L2 = 1.54 ms per loop\n",
      "    # n_chunks = 80 # 1MB = 0.367 ms\n",
      "    n_chunks = 40 # 2MB = 0.345 ms\n",
      "    # n_chunks = 90 // 3 # 3MB = 0.428 ms\n",
      "    chunk_len = N // n_chunks\n",
      "    # print('MBytes per chunk= {:.3f}MB'.format(chunk_len * 8 / 1E6))\n",
      "    boundaries = np.arange(0, N, chunk_len, dtype=np.uint)\n",
      "    for i in range(n_chunks-1):\n",
      "        chunk = data[boundaries[i]:boundaries[i+1]]\n",
      "        chunk = chunk.clip(0.4,0.5)\n",
      "    return data"
     ],
     "language": "python",
     "metadata": {},
     "outputs": [],
     "prompt_number": 173
    },
    {
     "cell_type": "code",
     "collapsed": false,
     "input": [
      "%timeit clip(arr)"
     ],
     "language": "python",
     "metadata": {},
     "outputs": [
      {
       "output_type": "stream",
       "stream": "stdout",
       "text": [
        "10 loops, best of 3: 131 ms per loop\n"
       ]
      }
     ],
     "prompt_number": 166
    },
    {
     "cell_type": "code",
     "collapsed": false,
     "input": [
      "%timeit chunk_by_chunk_clip(arr)"
     ],
     "language": "python",
     "metadata": {},
     "outputs": [
      {
       "output_type": "stream",
       "stream": "stdout",
       "text": [
        "10 loops, best of 3: 83.1 ms per loop\n"
       ]
      }
     ],
     "prompt_number": 174
    },
    {
     "cell_type": "code",
     "collapsed": false,
     "input": [
      "# OK, now let's try with pandas\n",
      "import pandas as pd\n",
      "\n",
      "series = pd.Series(arr)"
     ],
     "language": "python",
     "metadata": {},
     "outputs": [],
     "prompt_number": 175
    },
    {
     "cell_type": "code",
     "collapsed": false,
     "input": [
      "%timeit clip(series)"
     ],
     "language": "python",
     "metadata": {},
     "outputs": [
      {
       "output_type": "stream",
       "stream": "stdout",
       "text": [
        "1 loops, best of 3: 285 ms per loop\n"
       ]
      }
     ],
     "prompt_number": 176
    },
    {
     "cell_type": "code",
     "collapsed": false,
     "input": [
      "%timeit clip(series.values)"
     ],
     "language": "python",
     "metadata": {},
     "outputs": [
      {
       "output_type": "stream",
       "stream": "stdout",
       "text": [
        "10 loops, best of 3: 138 ms per loop\n"
       ]
      }
     ],
     "prompt_number": 177
    },
    {
     "cell_type": "code",
     "collapsed": false,
     "input": [
      "%timeit chunk_by_chunk_clip(series)"
     ],
     "language": "python",
     "metadata": {},
     "outputs": [
      {
       "output_type": "stream",
       "stream": "stdout",
       "text": [
        "1 loops, best of 3: 388 ms per loop\n"
       ]
      }
     ],
     "prompt_number": 178
    },
    {
     "cell_type": "code",
     "collapsed": false,
     "input": [
      "%timeit chunk_by_chunk_clip(series.values)"
     ],
     "language": "python",
     "metadata": {},
     "outputs": [
      {
       "output_type": "stream",
       "stream": "stdout",
       "text": [
        "10 loops, best of 3: 83.1 ms per loop\n"
       ]
      }
     ],
     "prompt_number": 179
    },
    {
     "cell_type": "code",
     "collapsed": false,
     "input": [
      "# and let's try doing some pandas operations\n",
      "\n",
      "def rolling_mean(data):\n",
      "    return pd.rolling_mean(data, 30)\n",
      "\n",
      "def chunk_by_chunk_rolling_mean(data):\n",
      "    # n_chunks = 80 * 16 # 64KB fits into L1 = 16.2 ms per loop\n",
      "    # n_chunks = 80 * 4 # 256KB fits into L2 = 1.54 ms per loop\n",
      "    # n_chunks = 80 # 1MB = 0.367 ms\n",
      "    n_chunks = 40 # 2MB = 0.345 ms\n",
      "    # n_chunks = 90 // 3 # 3MB = 0.428 ms\n",
      "    chunk_len = N // n_chunks\n",
      "    # print('MBytes per chunk= {:.3f}MB'.format(chunk_len * 8 / 1E6))\n",
      "    boundaries = np.arange(0, N, chunk_len, dtype=np.uint)\n",
      "    for i in range(n_chunks-1):\n",
      "        chunk = data.iloc[boundaries[i]:boundaries[i+1]]\n",
      "        chunk = pd.rolling_mean(chunk, 30)\n",
      "    return data\n",
      "    "
     ],
     "language": "python",
     "metadata": {},
     "outputs": [],
     "prompt_number": 180
    },
    {
     "cell_type": "code",
     "collapsed": false,
     "input": [
      "%timeit rolling_mean(series)"
     ],
     "language": "python",
     "metadata": {},
     "outputs": [
      {
       "output_type": "stream",
       "stream": "stdout",
       "text": [
        "1 loops, best of 3: 237 ms per loop\n"
       ]
      }
     ],
     "prompt_number": 181
    },
    {
     "cell_type": "code",
     "collapsed": false,
     "input": [
      "%timeit chunk_by_chunk_rolling_mean(series)"
     ],
     "language": "python",
     "metadata": {},
     "outputs": [
      {
       "output_type": "stream",
       "stream": "stdout",
       "text": [
        "10 loops, best of 3: 171 ms per loop\n"
       ]
      }
     ],
     "prompt_number": 182
    },
    {
     "cell_type": "code",
     "collapsed": false,
     "input": [
      "series32 = series.astype(np.float32)\n",
      "%timeit chunk_by_chunk_rolling_mean(series32)\n",
      "# but if we double the chunk size then we get 5 ms per loop"
     ],
     "language": "python",
     "metadata": {},
     "outputs": [
      {
       "output_type": "stream",
       "stream": "stdout",
       "text": [
        "1 loops, best of 3: 175 ms per loop\n"
       ]
      }
     ],
     "prompt_number": 183
    },
    {
     "cell_type": "code",
     "collapsed": false,
     "input": [
      "# Let's try multiple ops per chunk\n",
      "\n",
      "def rolling_mean_and_clip(data):\n",
      "    data = pd.rolling_mean(data, 30)\n",
      "    data = data.values.clip(0.4,0.5)\n",
      "    return data\n",
      "\n",
      "def chunk_by_chunk_rolling_mean_and_clip(data, n_chunks=40):\n",
      "    # n_chunks = 80 * 16 # 64KB fits into L1 = 16.2 ms per loop\n",
      "    # n_chunks = 80 * 4 # 256KB fits into L2 = 1.54 ms per loop\n",
      "    # n_chunks = 80 # 1MB = 0.367 ms\n",
      "    # n_chunks = 40 # 2MB = 0.345 ms\n",
      "    # n_chunks = 90 // 3 # 3MB = 0.428 ms\n",
      "    chunk_len = N // n_chunks\n",
      "    # print('MBytes per chunk= {:.3f}MB'.format(chunk_len * 8 / 1E6))\n",
      "    boundaries = np.arange(0, N, chunk_len, dtype=np.uint)\n",
      "    for i in range(n_chunks-1):\n",
      "        chunk = data.iloc[boundaries[i]:boundaries[i+1]]\n",
      "        chunk = pd.rolling_mean(chunk, 30)\n",
      "        chunk = chunk.values.clip(0.4,0.5)\n",
      "    return data"
     ],
     "language": "python",
     "metadata": {},
     "outputs": [],
     "prompt_number": 184
    },
    {
     "cell_type": "code",
     "collapsed": false,
     "input": [
      "%timeit rolling_mean_and_clip(series)"
     ],
     "language": "python",
     "metadata": {},
     "outputs": [
      {
       "output_type": "stream",
       "stream": "stdout",
       "text": [
        "1 loops, best of 3: 346 ms per loop\n"
       ]
      }
     ],
     "prompt_number": 185
    },
    {
     "cell_type": "code",
     "collapsed": false,
     "input": [
      "%timeit chunk_by_chunk_rolling_mean_and_clip(series)"
     ],
     "language": "python",
     "metadata": {},
     "outputs": [
      {
       "output_type": "stream",
       "stream": "stdout",
       "text": [
        "1 loops, best of 3: 223 ms per loop\n"
       ]
      }
     ],
     "prompt_number": 186
    },
    {
     "cell_type": "code",
     "collapsed": false,
     "input": [
      "# Create plots of chunk size against time\n",
      "\n",
      "import time\n",
      "step = 100 # kbytes\n",
      "max = 50000 # kbytes\n",
      "times = np.empty(max//step)\n",
      "for chunk_size in range(0,max,step)[1:]:\n",
      "    \"\"\"chunksize is in kBytes\"\"\"\n",
      "    chunk_len = (chunk_size * 1000) / 8\n",
      "    n_chunks = int(N // chunk_len)\n",
      "    if n_chunks == 0:\n",
      "        t0 = time.time()\n",
      "        rooling_mean_and_clip(series)\n",
      "    else:\n",
      "        t0 = time.time()\n",
      "        chunk_by_chunk_rolling_mean_and_clip(series, n_chunks)\n",
      "        \n",
      "    times[chunk_size//step] = time.time() - t0\n",
      "    \n",
      "times[0] = 0\n"
     ],
     "language": "python",
     "metadata": {},
     "outputs": [],
     "prompt_number": 202
    },
    {
     "cell_type": "code",
     "collapsed": false,
     "input": [
      "plot(range(0,max,step)[1:], times[1:], label='chunked')\n",
      "hold('on')\n",
      "ylabel('time (miliseconds)')\n",
      "xlabel('chunk size (kBytes)')\n",
      "\n",
      "t0 = time.time()\n",
      "rolling_mean_and_clip(series)\n",
      "duration_for_unchunked = time.time() - t0\n",
      "plot(xlim(), [duration_for_unchunked, duration_for_unchunked], label='unchunked')\n",
      "legend()"
     ],
     "language": "python",
     "metadata": {},
     "outputs": [
      {
       "metadata": {},
       "output_type": "pyout",
       "prompt_number": 203,
       "text": [
        "<matplotlib.legend.Legend at 0x5bbba10>"
       ]
      },
      {
       "metadata": {},
       "output_type": "display_data",
       "png": "[encoded data removed]",
       "text": [
        "<matplotlib.figure.Figure at 0x51d2dd0>"
       ]
      }
     ],
     "prompt_number": 203
    },
    {
     "cell_type": "markdown",
     "metadata": {},
     "source": [
      "## Conclusions\n",
      "\n",
      "Yes, it can be faster to process data in chunks (my L3 cache is 3MB).  I'm not entirely sure I trust these results though.  The bottom line is that I'm not going to bother getting data into small (cache-sized) chunks for now.  We can always add it later if we really want to.\n"
     ]
    },
    {
     "cell_type": "code",
     "collapsed": false,
     "input": [],
     "language": "python",
     "metadata": {},
     "outputs": []
    }
   ],
   "metadata": {}
  }
 ]
}